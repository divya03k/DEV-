{
 "cells": [
  {
   "cell_type": "code",
   "execution_count": 36,
   "id": "554918eb-2db4-43a1-b3d1-f8c0cb7f2774",
   "metadata": {},
   "outputs": [
    {
     "name": "stdout",
     "output_type": "stream",
     "text": [
      "Dataset loaded successfully\n"
     ]
    }
   ],
   "source": [
    "import pandas as pd\n",
    "import numpy as np\n",
    "import matplotlib.pyplot as plt\n",
    "import seaborn as sns\n",
    "df = pd.read_csv(r\"C:\\Users\\Lenovo\\Downloads\\covid_19_data.csv\")  # or use any dataset like 'owid-covid-data.csv'\n",
    "print(\"Dataset loaded successfully\")"
   ]
  },
  {
   "cell_type": "code",
   "execution_count": 37,
   "id": "9899b456-70bb-4a43-8f8f-bab02c486205",
   "metadata": {},
   "outputs": [
    {
     "data": {
      "text/html": [
       "<div>\n",
       "<style scoped>\n",
       "    .dataframe tbody tr th:only-of-type {\n",
       "        vertical-align: middle;\n",
       "    }\n",
       "\n",
       "    .dataframe tbody tr th {\n",
       "        vertical-align: top;\n",
       "    }\n",
       "\n",
       "    .dataframe thead th {\n",
       "        text-align: right;\n",
       "    }\n",
       "</style>\n",
       "<table border=\"1\" class=\"dataframe\">\n",
       "  <thead>\n",
       "    <tr style=\"text-align: right;\">\n",
       "      <th></th>\n",
       "      <th>date</th>\n",
       "      <th>location</th>\n",
       "      <th>total_cases</th>\n",
       "      <th>total_deaths</th>\n",
       "    </tr>\n",
       "  </thead>\n",
       "  <tbody>\n",
       "    <tr>\n",
       "      <th>0</th>\n",
       "      <td>2020-03-01</td>\n",
       "      <td>CountryA</td>\n",
       "      <td>10.0</td>\n",
       "      <td>1.0</td>\n",
       "    </tr>\n",
       "    <tr>\n",
       "      <th>1</th>\n",
       "      <td>2020-03-02</td>\n",
       "      <td>CountryA</td>\n",
       "      <td>20.0</td>\n",
       "      <td>2.0</td>\n",
       "    </tr>\n",
       "    <tr>\n",
       "      <th>2</th>\n",
       "      <td>2020-03-01</td>\n",
       "      <td>CountryB</td>\n",
       "      <td>5.0</td>\n",
       "      <td>NaN</td>\n",
       "    </tr>\n",
       "    <tr>\n",
       "      <th>3</th>\n",
       "      <td>2020-03-02</td>\n",
       "      <td>CountryB</td>\n",
       "      <td>15.0</td>\n",
       "      <td>1.0</td>\n",
       "    </tr>\n",
       "    <tr>\n",
       "      <th>4</th>\n",
       "      <td>2020-03-03</td>\n",
       "      <td>CountryA</td>\n",
       "      <td>NaN</td>\n",
       "      <td>3.0</td>\n",
       "    </tr>\n",
       "  </tbody>\n",
       "</table>\n",
       "</div>"
      ],
      "text/plain": [
       "         date  location  total_cases  total_deaths\n",
       "0  2020-03-01  CountryA         10.0           1.0\n",
       "1  2020-03-02  CountryA         20.0           2.0\n",
       "2  2020-03-01  CountryB          5.0           NaN\n",
       "3  2020-03-02  CountryB         15.0           1.0\n",
       "4  2020-03-03  CountryA          NaN           3.0"
      ]
     },
     "execution_count": 37,
     "metadata": {},
     "output_type": "execute_result"
    }
   ],
   "source": [
    "df.head()\n"
   ]
  },
  {
   "cell_type": "code",
   "execution_count": 38,
   "id": "d07f26ca-76a4-455a-b9f6-345f8deb52f4",
   "metadata": {
    "scrolled": true
   },
   "outputs": [
    {
     "name": "stdout",
     "output_type": "stream",
     "text": [
      "<class 'pandas.core.frame.DataFrame'>\n",
      "RangeIndex: 6 entries, 0 to 5\n",
      "Data columns (total 4 columns):\n",
      " #   Column        Non-Null Count  Dtype  \n",
      "---  ------        --------------  -----  \n",
      " 0   date          6 non-null      object \n",
      " 1   location      6 non-null      object \n",
      " 2   total_cases   5 non-null      float64\n",
      " 3   total_deaths  5 non-null      float64\n",
      "dtypes: float64(2), object(2)\n",
      "memory usage: 324.0+ bytes\n"
     ]
    }
   ],
   "source": [
    "df.info()          # Data types and non-null counts\n"
   ]
  },
  {
   "cell_type": "code",
   "execution_count": 39,
   "id": "700146ab-0b62-46da-9d7a-08372eebcada",
   "metadata": {},
   "outputs": [
    {
     "data": {
      "text/html": [
       "<div>\n",
       "<style scoped>\n",
       "    .dataframe tbody tr th:only-of-type {\n",
       "        vertical-align: middle;\n",
       "    }\n",
       "\n",
       "    .dataframe tbody tr th {\n",
       "        vertical-align: top;\n",
       "    }\n",
       "\n",
       "    .dataframe thead th {\n",
       "        text-align: right;\n",
       "    }\n",
       "</style>\n",
       "<table border=\"1\" class=\"dataframe\">\n",
       "  <thead>\n",
       "    <tr style=\"text-align: right;\">\n",
       "      <th></th>\n",
       "      <th>total_cases</th>\n",
       "      <th>total_deaths</th>\n",
       "    </tr>\n",
       "  </thead>\n",
       "  <tbody>\n",
       "    <tr>\n",
       "      <th>count</th>\n",
       "      <td>5.000000</td>\n",
       "      <td>5.00000</td>\n",
       "    </tr>\n",
       "    <tr>\n",
       "      <th>mean</th>\n",
       "      <td>15.000000</td>\n",
       "      <td>2.40000</td>\n",
       "    </tr>\n",
       "    <tr>\n",
       "      <th>std</th>\n",
       "      <td>7.905694</td>\n",
       "      <td>1.67332</td>\n",
       "    </tr>\n",
       "    <tr>\n",
       "      <th>min</th>\n",
       "      <td>5.000000</td>\n",
       "      <td>1.00000</td>\n",
       "    </tr>\n",
       "    <tr>\n",
       "      <th>25%</th>\n",
       "      <td>10.000000</td>\n",
       "      <td>1.00000</td>\n",
       "    </tr>\n",
       "    <tr>\n",
       "      <th>50%</th>\n",
       "      <td>15.000000</td>\n",
       "      <td>2.00000</td>\n",
       "    </tr>\n",
       "    <tr>\n",
       "      <th>75%</th>\n",
       "      <td>20.000000</td>\n",
       "      <td>3.00000</td>\n",
       "    </tr>\n",
       "    <tr>\n",
       "      <th>max</th>\n",
       "      <td>25.000000</td>\n",
       "      <td>5.00000</td>\n",
       "    </tr>\n",
       "  </tbody>\n",
       "</table>\n",
       "</div>"
      ],
      "text/plain": [
       "       total_cases  total_deaths\n",
       "count     5.000000       5.00000\n",
       "mean     15.000000       2.40000\n",
       "std       7.905694       1.67332\n",
       "min       5.000000       1.00000\n",
       "25%      10.000000       1.00000\n",
       "50%      15.000000       2.00000\n",
       "75%      20.000000       3.00000\n",
       "max      25.000000       5.00000"
      ]
     },
     "execution_count": 39,
     "metadata": {},
     "output_type": "execute_result"
    }
   ],
   "source": [
    "df.describe()      # Summary statistics\n"
   ]
  },
  {
   "cell_type": "code",
   "execution_count": 40,
   "id": "e06c6def-22b4-4741-a28a-802ce4f53020",
   "metadata": {},
   "outputs": [
    {
     "data": {
      "text/plain": [
       "Index(['date', 'location', 'total_cases', 'total_deaths'], dtype='object')"
      ]
     },
     "execution_count": 40,
     "metadata": {},
     "output_type": "execute_result"
    }
   ],
   "source": [
    "df.columns         # List of columns\n"
   ]
  },
  {
   "cell_type": "code",
   "execution_count": 41,
   "id": "6b9022af-a71e-46af-bd57-755ca937390c",
   "metadata": {},
   "outputs": [
    {
     "name": "stdout",
     "output_type": "stream",
     "text": [
      "              Missing Values  Percentage\n",
      "total_deaths               1   16.666667\n",
      "total_cases                1   16.666667\n",
      "location                   0    0.000000\n",
      "date                       0    0.000000\n"
     ]
    }
   ],
   "source": [
    "missing_data = df.isnull().sum()\n",
    "missing_percent = (missing_data / len(df)) * 100\n",
    "missing_summary = pd.DataFrame({'Missing Values': missing_data, 'Percentage': missing_percent})\n",
    "print(missing_summary.sort_values(by='Percentage', ascending=False))\n"
   ]
  },
  {
   "cell_type": "code",
   "execution_count": 42,
   "id": "0969c3c5-a4ef-4d6d-809c-4ad31b046111",
   "metadata": {},
   "outputs": [
    {
     "name": "stdout",
     "output_type": "stream",
     "text": [
      "date            0\n",
      "location        0\n",
      "total_cases     0\n",
      "total_deaths    0\n",
      "dtype: int64\n"
     ]
    }
   ],
   "source": [
    "df.fillna(0, inplace=True)         # Replace missing values with 0\n",
    "# or\n",
    "df.dropna(inplace=True)            # Drop rows with any null value\n",
    "print(df.isnull().sum())"
   ]
  },
  {
   "cell_type": "code",
   "execution_count": 43,
   "id": "c34921bb-626f-4031-b251-0a69bd0c8784",
   "metadata": {},
   "outputs": [],
   "source": [
    "df['date'] = pd.to_datetime(df['date'])\n",
    "df['year'] = df['date'].dt.year\n",
    "df['month'] = df['date'].dt.month\n"
   ]
  },
  {
   "cell_type": "code",
   "execution_count": 44,
   "id": "7d6498de-ab94-4944-ab5e-65f1cd1c21bb",
   "metadata": {},
   "outputs": [
    {
     "name": "stdout",
     "output_type": "stream",
     "text": [
      "['date', 'location', 'total_cases', 'total_deaths', 'year', 'month']\n"
     ]
    }
   ],
   "source": [
    "print(df.columns.tolist())\n"
   ]
  },
  {
   "cell_type": "code",
   "execution_count": 45,
   "id": "665a3d70-55e9-46be-be89-f09cba05877f",
   "metadata": {},
   "outputs": [],
   "source": [
    "pivot_cases = pd.pivot_table(df, values='total_cases',\n",
    "                             index='date',\n",
    "                             columns='location',\n",
    "                             aggfunc='sum')\n"
   ]
  },
  {
   "cell_type": "code",
   "execution_count": 47,
   "id": "0a483be3-a3aa-447c-bfbd-0f19bbfe73f3",
   "metadata": {},
   "outputs": [],
   "source": [
    "df['Death_Level'] = pd.cut(df['total_deaths'], bins=[0, 1000, 10000, 50000, np.inf],\n",
    "                           labels=['Low', 'Moderate', 'High', 'Critical'])\n",
    "crosstab = pd.crosstab(df['location'], df['Death_Level'])\n"
   ]
  },
  {
   "cell_type": "code",
   "execution_count": 51,
   "id": "6df5659d-368f-4f07-93e1-98240eacd48b",
   "metadata": {},
   "outputs": [
    {
     "data": {
      "image/png": "[encoded data removed]",
      "text/plain": [
       "<Figure size 1000x500 with 1 Axes>"
      ]
     },
     "metadata": {},
     "output_type": "display_data"
    }
   ],
   "source": [
    "# Sort values by location and date\n",
    "df.sort_values(by=['location', 'date'], inplace=True)\n",
    "\n",
    "# Calculate daily new cases per country\n",
    "df['daily_new_cases'] = df.groupby('location')['total_cases'].diff().fillna(0)\n",
    "\n",
    "# Plot daily new cases for CountryA\n",
    "country = 'CountryA'\n",
    "plt.figure(figsize=(10, 5))\n",
    "plt.plot(df[df['location'] == country]['date'],\n",
    "         df[df['location'] == country]['daily_new_cases'],\n",
    "         marker='o', label=f'Daily New Cases - {country}')\n",
    "\n",
    "plt.xlabel('Date')\n",
    "plt.ylabel('Daily New Cases')\n",
    "plt.title(f'COVID-19 Daily New Cases in {country}')\n",
    "plt.grid(True)\n",
    "plt.legend()\n",
    "plt.show()\n"
   ]
  },
  {
   "cell_type": "code",
   "execution_count": 52,
   "id": "e2952c5f-8da3-4b0b-b57e-33ad824153f8",
   "metadata": {},
   "outputs": [
    {
     "data": {
      "image/png": "[encoded data removed]",
      "text/plain": [
       "<Figure size 640x480 with 1 Axes>"
      ]
     },
     "metadata": {},
     "output_type": "display_data"
    }
   ],
   "source": [
    "sns.heatmap(df.isnull(), cbar=False, cmap='viridis')\n",
    "plt.title(\"Missing Data Heatmap\")\n",
    "plt.show()\n"
   ]
  },
  {
   "cell_type": "code",
   "execution_count": null,
   "id": "c6de82da-5661-4bfa-a564-f1ff1aec5d1b",
   "metadata": {},
   "outputs": [],
   "source": []
  }
 ],
 "metadata": {
  "kernelspec": {
   "display_name": "Python 3 (ipykernel)",
   "language": "python",
   "name": "python3"
  },
  "language_info": {
   "codemirror_mode": {
    "name": "ipython",
    "version": 3
   },
   "file_extension": ".py",
   "mimetype": "text/x-python",
   "name": "python",
   "nbconvert_exporter": "python",
   "pygments_lexer": "ipython3",
   "version": "3.13.1"
  }
 },
 "nbformat": 4,
 "nbformat_minor": 5
}
